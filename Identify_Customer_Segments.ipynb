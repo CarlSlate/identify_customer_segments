{
 "cells": [
  {
   "cell_type": "markdown",
   "metadata": {},
   "source": [
    "# Project: Identify Customer Segments\n",
    "\n",
    "In this project, you will apply unsupervised learning techniques to identify segments of the population that form the core customer base for a mail-order sales company in Germany. These segments can then be used to direct marketing campaigns towards audiences that will have the highest expected rate of returns. The data that you will use has been provided by our partners at Bertelsmann Arvato Analytics, and represents a real-life data science task.\n",
    "\n",
    "This notebook will help you complete this task by providing a framework within which you will perform your analysis steps. In each step of the project, you will see some text describing the subtask that you will perform, followed by one or more code cells for you to complete your work. **Feel free to add additional code and markdown cells as you go along so that you can explore everything in precise chunks.** The code cells provided in the base template will outline only the major tasks, and will usually not be enough to cover all of the minor tasks that comprise it.\n",
    "\n",
    "It should be noted that while there will be precise guidelines on how you should handle certain tasks in the project, there will also be places where an exact specification is not provided. **There will be times in the project where you will need to make and justify your own decisions on how to treat the data.** These are places where there may not be only one way to handle the data. In real-life tasks, there may be many valid ways to approach an analysis task. One of the most important things you can do is clearly document your approach so that other scientists can understand the decisions you've made.\n",
    "\n",
    "At the end of most sections, there will be a Markdown cell labeled **Discussion**. In these cells, you will report your findings for the completed section, as well as document the decisions that you made in your approach to each subtask. **Your project will be evaluated not just on the code used to complete the tasks outlined, but also your communication about your observations and conclusions at each stage.**"
   ]
  },
  {
   "cell_type": "code",
   "execution_count": 1,
   "metadata": {},
   "outputs": [
    {
     "name": "stdout",
     "output_type": "stream",
     "text": [
      "Requirement already satisfied: lighteda in /opt/conda/lib/python3.6/site-packages (0.0.6)\r\n"
     ]
    },
    {
     "data": {
      "text/plain": [
       "'\\nImport note: The classroom currently uses sklearn version 0.19.\\nIf you need to use an imputer, it is available in sklearn.preprocessing.Imputer,\\ninstead of sklearn.impute as in newer versions of sklearn.\\n'"
      ]
     },
     "execution_count": 1,
     "metadata": {},
     "output_type": "execute_result"
    }
   ],
   "source": [
    "# import libraries here; add more as necessary\n",
    "import numpy as np\n",
    "import pandas as pd\n",
    "import matplotlib.pyplot as plt\n",
    "import seaborn as sns\n",
    "!pip install lighteda\n",
    "import lighteda\n",
    "from sklearn.preprocessing import StandardScaler, Imputer\n",
    "from sklearn.decomposition import PCA\n",
    "from sklearn.cluster import KMeans\n",
    "# magic word for producing visualizations in notebook\n",
    "%matplotlib inline\n",
    "\n",
    "'''\n",
    "Import note: The classroom currently uses sklearn version 0.19.\n",
    "If you need to use an imputer, it is available in sklearn.preprocessing.Imputer,\n",
    "instead of sklearn.impute as in newer versions of sklearn.\n",
    "'''"
   ]
  },
  {
   "cell_type": "markdown",
   "metadata": {},
   "source": [
    "### Step 0: Load the Data\n",
    "\n",
    "There are four files associated with this project (not including this one):\n",
    "\n",
    "- `Udacity_AZDIAS_Subset.csv`: Demographics data for the general population of Germany; 891211 persons (rows) x 85 features (columns).\n",
    "- `Udacity_CUSTOMERS_Subset.csv`: Demographics data for customers of a mail-order company; 191652 persons (rows) x 85 features (columns).\n",
    "- `Data_Dictionary.md`: Detailed information file about the features in the provided datasets.\n",
    "- `AZDIAS_Feature_Summary.csv`: Summary of feature attributes for demographics data; 85 features (rows) x 4 columns\n",
    "\n",
    "Each row of the demographics files represents a single person, but also includes information outside of individuals, including information about their household, building, and neighborhood. You will use this information to cluster the general population into groups with similar demographic properties. Then, you will see how the people in the customers dataset fit into those created clusters. The hope here is that certain clusters are over-represented in the customers data, as compared to the general population; those over-represented clusters will be assumed to be part of the core userbase. This information can then be used for further applications, such as targeting for a marketing campaign.\n",
    "\n",
    "To start off with, load in the demographics data for the general population into a pandas DataFrame, and do the same for the feature attributes summary. Note for all of the `.csv` data files in this project: they're semicolon (`;`) delimited, so you'll need an additional argument in your [`read_csv()`](https://pandas.pydata.org/pandas-docs/stable/generated/pandas.read_csv.html) call to read in the data properly. Also, considering the size of the main dataset, it may take some time for it to load completely.\n",
    "\n",
    "Once the dataset is loaded, it's recommended that you take a little bit of time just browsing the general structure of the dataset and feature summary file. You'll be getting deep into the innards of the cleaning in the first major step of the project, so gaining some general familiarity can help you get your bearings."
   ]
  },
  {
   "cell_type": "code",
   "execution_count": null,
   "metadata": {},
   "outputs": [],
   "source": [
    "# Load in the general demographics data.\n",
    "azdias = pd.read_csv('Udacity_AZDIAS_Subset.csv', sep=';')\n",
    "\n",
    "# Load in the feature summary file.\n",
    "feat_info = pd.read_csv('AZDIAS_Feature_Summary.csv', sep=';')"
   ]
  },
  {
   "cell_type": "code",
   "execution_count": null,
   "metadata": {},
   "outputs": [],
   "source": [
    "# Check the structure of the data after it's loaded (e.g. print the number of\n",
    "# rows and columns, print the first few rows).\n",
    "azdias.head()\n"
   ]
  },
  {
   "cell_type": "code",
   "execution_count": null,
   "metadata": {},
   "outputs": [],
   "source": [
    "azdias.shape"
   ]
  },
  {
   "cell_type": "code",
   "execution_count": null,
   "metadata": {},
   "outputs": [],
   "source": [
    "feat_info.head()"
   ]
  },
  {
   "cell_type": "code",
   "execution_count": null,
   "metadata": {},
   "outputs": [],
   "source": [
    "feat_info.shape"
   ]
  },
  {
   "cell_type": "code",
   "execution_count": null,
   "metadata": {},
   "outputs": [],
   "source": [
    "feat_info.info()"
   ]
  },
  {
   "cell_type": "code",
   "execution_count": null,
   "metadata": {},
   "outputs": [],
   "source": [
    "azdias.info()"
   ]
  },
  {
   "cell_type": "code",
   "execution_count": null,
   "metadata": {},
   "outputs": [],
   "source": [
    "azdias.sample(50)"
   ]
  },
  {
   "cell_type": "markdown",
   "metadata": {},
   "source": [
    "> **Tip**: Add additional cells to keep everything in reasonably-sized chunks! Keyboard shortcut `esc --> a` (press escape to enter command mode, then press the 'A' key) adds a new cell before the active cell, and `esc --> b` adds a new cell after the active cell. If you need to convert an active cell to a markdown cell, use `esc --> m` and to convert to a code cell, use `esc --> y`. \n",
    "\n",
    "## Step 1: Preprocessing\n",
    "\n",
    "### Step 1.1: Assess Missing Data\n",
    "\n",
    "The feature summary file contains a summary of properties for each demographics data column. You will use this file to help you make cleaning decisions during this stage of the project. First of all, you should assess the demographics data in terms of missing data. Pay attention to the following points as you perform your analysis, and take notes on what you observe. Make sure that you fill in the **Discussion** cell with your findings and decisions at the end of each step that has one!\n",
    "\n",
    "#### Step 1.1.1: Convert Missing Value Codes to NaNs\n",
    "The fourth column of the feature attributes summary (loaded in above as `feat_info`) documents the codes from the data dictionary that indicate missing or unknown data. While the file encodes this as a list (e.g. `[-1,0]`), this will get read in as a string object. You'll need to do a little bit of parsing to make use of it to identify and clean the data. Convert data that matches a 'missing' or 'unknown' value code into a numpy NaN value. You might want to see how much data takes on a 'missing' or 'unknown' code, and how much data is naturally missing, as a point of interest.\n",
    "\n",
    "**As one more reminder, you are encouraged to add additional cells to break up your analysis into manageable chunks.**"
   ]
  },
  {
   "cell_type": "code",
   "execution_count": null,
   "metadata": {},
   "outputs": [],
   "source": [
    "# code sited from Udacity Mentor notes: https://knowledge.udacity.com/questions/268432\n",
    "for indx in range(len(feat_info)):\n",
    "    missing_or_unknown = feat_info.iloc[indx]['missing_or_unknown']\n",
    "    missing_or_unknown = missing_or_unknown.strip('[')\n",
    "    missing_or_unknown = missing_or_unknown.strip(']')\n",
    "    missing_or_unknown = missing_or_unknown.split(sep=',')\n",
    "    missing_or_unknown = [int(value) if (value!='X' and value!='XX' and value!='') else value for value in missing_or_unknown]\n",
    "    if missing_or_unknown != ['']:\n",
    "        azdias = azdias.replace({feat_info.iloc[indx]['attribute']: missing_or_unknown}, np.nan)"
   ]
  },
  {
   "cell_type": "code",
   "execution_count": null,
   "metadata": {},
   "outputs": [],
   "source": [
    "azdias.sample(50)"
   ]
  },
  {
   "cell_type": "code",
   "execution_count": null,
   "metadata": {},
   "outputs": [],
   "source": [
    "#Identify NaN Count\n",
    "NaN=azdias.isna().sum()\n",
    "NaN.sort_values(ascending=True,inplace=True)\n",
    "NaN"
   ]
  },
  {
   "cell_type": "markdown",
   "metadata": {},
   "source": [
    "#### Step 1.1.2: Assess Missing Data in Each Column\n",
    "\n",
    "How much missing data is present in each column? There are a few columns that are outliers in terms of the proportion of values that are missing. You will want to use matplotlib's [`hist()`](https://matplotlib.org/api/_as_gen/matplotlib.pyplot.hist.html) function to visualize the distribution of missing value counts to find these columns. Identify and document these columns. While some of these columns might have justifications for keeping or re-encoding the data, for this project you should just remove them from the dataframe. (Feel free to make remarks about these outlier columns in the discussion, however!)\n",
    "\n",
    "For the remaining features, are there any patterns in which columns have, or share, missing data?"
   ]
  },
  {
   "cell_type": "code",
   "execution_count": null,
   "metadata": {},
   "outputs": [],
   "source": [
    "# Perform an assessment of how much missing data there is in each column of the\n",
    "# dataset.\n",
    "# sited from https://stackoverflow.com/questions/51070985/find-out-the-percentage-of-missing-values-in-each-column-in-the-given-dataset\n",
    "\n",
    "percent_missing = azdias.isnull().sum() * 100 / len(azdias)\n",
    "missing_value_df = pd.DataFrame({'column_name': azdias.columns,\n",
    "                                 'percent_missing': percent_missing})\n"
   ]
  },
  {
   "cell_type": "code",
   "execution_count": null,
   "metadata": {},
   "outputs": [],
   "source": [
    "missing_value_df.sort_values('percent_missing', inplace=True)\n",
    "missing_value_df"
   ]
  },
  {
   "cell_type": "code",
   "execution_count": null,
   "metadata": {},
   "outputs": [],
   "source": [
    "# Investigate patterns in the amount of missing data in each column.\n",
    "\n",
    "# Visualize amount of missing data by column\n",
    "NaN.plot.barh(figsize=(20,30))\n",
    "plt.show()"
   ]
  },
  {
   "cell_type": "code",
   "execution_count": null,
   "metadata": {},
   "outputs": [],
   "source": [
    "# Remove the outlier columns from the dataset. (You'll perform other data\n",
    "# engineering tasks such as re-encoding and imputation later.)\n",
    "\n",
    "azdias = azdias.drop(['TITEL_KZ','AGER_TYP','KK_KUNDENTYP','KBA05_BAUMAX','GEBURTSJAHR','ALTER_HH'], axis = 1)"
   ]
  },
  {
   "cell_type": "code",
   "execution_count": null,
   "metadata": {},
   "outputs": [],
   "source": [
    "azdias.sample(50)"
   ]
  },
  {
   "cell_type": "markdown",
   "metadata": {},
   "source": [
    "#### Discussion 1.1.2: Assess Missing Data in Each Column\n",
    "\n",
    "The outliers in this dataset are missing from 30% or more of the entire dataset.  The columns that were removed were:\n",
    "     * 'TITEL_KZ'\n",
    "     * 'AGER_TYP'\n",
    "     * 'KK_KUNDENTYP'\n",
    "     * 'KBA05_BAUMAX'\n",
    "     * 'GEBURTSJAHR'\n",
    "     * 'ALTER_HH'"
   ]
  },
  {
   "cell_type": "markdown",
   "metadata": {},
   "source": [
    "#### Step 1.1.3: Assess Missing Data in Each Row\n",
    "\n",
    "Now, you'll perform a similar assessment for the rows of the dataset. How much data is missing in each row? As with the columns, you should see some groups of points that have a very different numbers of missing values. Divide the data into two subsets: one for data points that are above some threshold for missing values, and a second subset for points below that threshold.\n",
    "\n",
    "In order to know what to do with the outlier rows, we should see if the distribution of data values on columns that are not missing data (or are missing very little data) are similar or different between the two groups. Select at least five of these columns and compare the distribution of values.\n",
    "- You can use seaborn's [`countplot()`](https://seaborn.pydata.org/generated/seaborn.countplot.html) function to create a bar chart of code frequencies and matplotlib's [`subplot()`](https://matplotlib.org/api/_as_gen/matplotlib.pyplot.subplot.html) function to put bar charts for the two subplots side by side.\n",
    "- To reduce repeated code, you might want to write a function that can perform this comparison, taking as one of its arguments a column to be compared.\n",
    "\n",
    "Depending on what you observe in your comparison, this will have implications on how you approach your conclusions later in the analysis. If the distributions of non-missing features look similar between the data with many missing values and the data with few or no missing values, then we could argue that simply dropping those points from the analysis won't present a major issue. On the other hand, if the data with many missing values looks very different from the data with few or no missing values, then we should make a note on those data as special. We'll revisit these data later on. **Either way, you should continue your analysis for now using just the subset of the data with few or no missing values.**"
   ]
  },
  {
   "cell_type": "code",
   "execution_count": null,
   "metadata": {},
   "outputs": [],
   "source": [
    "# How much data is missing in each row of the dataset?\n",
    "\n",
    "nan_rows = azdias.isnull().sum(axis=1)\n",
    "plt.hist(nan_rows);"
   ]
  },
  {
   "cell_type": "code",
   "execution_count": null,
   "metadata": {},
   "outputs": [],
   "source": [
    "# Write code to divide the data into two subsets based on the number of missing\n",
    "# values in each row.\n",
    "nan_less_than_30 = azdias[nan_rows<30]\n",
    "nan_more_than_30 = azdias[nan_rows>=30]"
   ]
  },
  {
   "cell_type": "code",
   "execution_count": null,
   "metadata": {},
   "outputs": [],
   "source": [
    "#build function to run through datasets for distribution comparison\n",
    "\n",
    "def distribution_comp(column):\n",
    "    fig = plt.figure(figsize=(15,3))\n",
    "    \n",
    "    ax1 = fig.add_subplot(121)\n",
    "    ax1.title.set_text('nan_less_than_30')\n",
    "    sns.countplot(nan_less_than_30[column])\n",
    "    \n",
    "    ax2 = fig.add_subplot(122)\n",
    "    ax2.title.set_text('nan_more_than_30')\n",
    "    sns.countplot(nan_more_than_30[column])\n",
    "    \n",
    "    fig.suptitle(column)\n",
    "    plt.show();"
   ]
  },
  {
   "cell_type": "code",
   "execution_count": null,
   "metadata": {},
   "outputs": [],
   "source": [
    "column_selection = ['ALTERSKATEGORIE_GROB',  'ANREDE_KZ', 'CJT_GESAMTTYP', 'FINANZ_MINIMALIST', 'FINANZ_SPARER']\n",
    "for i in column_selection:\n",
    "    distribution_comp(i)"
   ]
  },
  {
   "cell_type": "markdown",
   "metadata": {},
   "source": [
    "#### Discussion 1.1.3: Assess Missing Data in Each Row\n",
    "\n",
    "Save for ANREDE_KZ, the distribution tends to differ between the two sets of data. "
   ]
  },
  {
   "cell_type": "markdown",
   "metadata": {},
   "source": [
    "### Step 1.2: Select and Re-Encode Features\n",
    "\n",
    "Checking for missing data isn't the only way in which you can prepare a dataset for analysis. Since the unsupervised learning techniques to be used will only work on data that is encoded numerically, you need to make a few encoding changes or additional assumptions to be able to make progress. In addition, while almost all of the values in the dataset are encoded using numbers, not all of them represent numeric values. Check the third column of the feature summary (`feat_info`) for a summary of types of measurement.\n",
    "- For numeric and interval data, these features can be kept without changes.\n",
    "- Most of the variables in the dataset are ordinal in nature. While ordinal values may technically be non-linear in spacing, make the simplifying assumption that the ordinal variables can be treated as being interval in nature (that is, kept without any changes).\n",
    "- Special handling may be necessary for the remaining two variable types: categorical, and 'mixed'.\n",
    "\n",
    "In the first two parts of this sub-step, you will perform an investigation of the categorical and mixed-type features and make a decision on each of them, whether you will keep, drop, or re-encode each. Then, in the last part, you will create a new data frame with only the selected and engineered columns.\n",
    "\n",
    "Data wrangling is often the trickiest part of the data analysis process, and there's a lot of it to be done here. But stick with it: once you're done with this step, you'll be ready to get to the machine learning parts of the project!"
   ]
  },
  {
   "cell_type": "code",
   "execution_count": null,
   "metadata": {},
   "outputs": [],
   "source": [
    "feat_info = feat_info[feat_info.attribute.isin(nan_less_than_30)]\n",
    "feat_info.type.value_counts()"
   ]
  },
  {
   "cell_type": "markdown",
   "metadata": {},
   "source": [
    "#### Step 1.2.1: Re-Encode Categorical Features\n",
    "\n",
    "For categorical data, you would ordinarily need to encode the levels as dummy variables. Depending on the number of categories, perform one of the following:\n",
    "- For binary (two-level) categoricals that take numeric values, you can keep them without needing to do anything.\n",
    "- There is one binary variable that takes on non-numeric values. For this one, you need to re-encode the values as numbers or create a dummy variable.\n",
    "- For multi-level categoricals (three or more values), you can choose to encode the values using multiple dummy variables (e.g. via [OneHotEncoder](http://scikit-learn.org/stable/modules/generated/sklearn.preprocessing.OneHotEncoder.html)), or (to keep things straightforward) just drop them from the analysis. As always, document your choices in the Discussion section."
   ]
  },
  {
   "cell_type": "code",
   "execution_count": null,
   "metadata": {},
   "outputs": [],
   "source": [
    "# Assess categorical variables: which are binary, which are multi-level, and\n",
    "# which one needs to be re-encoded?\n",
    "cat = feat_info[feat_info.type == \"categorical\"]['attribute']\n",
    "print(cat)"
   ]
  },
  {
   "cell_type": "code",
   "execution_count": null,
   "metadata": {},
   "outputs": [],
   "source": [
    "binary = []\n",
    "multi = []\n",
    "\n",
    "for f in cat:\n",
    "    if(nan_less_than_30[f].nunique()> 2):\n",
    "        multi.append(f)\n",
    "    else:\n",
    "        binary.append(f)"
   ]
  },
  {
   "cell_type": "code",
   "execution_count": null,
   "metadata": {},
   "outputs": [],
   "source": [
    "print(multi)"
   ]
  },
  {
   "cell_type": "code",
   "execution_count": null,
   "metadata": {
    "scrolled": true
   },
   "outputs": [],
   "source": [
    "print(binary)"
   ]
  },
  {
   "cell_type": "code",
   "execution_count": null,
   "metadata": {},
   "outputs": [],
   "source": [
    "# Re-encode categorical variable(s) to be kept in the analysis.\n",
    "nan_less_than_30 = pd.get_dummies(nan_less_than_30, columns = multi)"
   ]
  },
  {
   "cell_type": "code",
   "execution_count": null,
   "metadata": {},
   "outputs": [],
   "source": [
    "nan_less_than_30.replace({'OST_WEST_KZ':{'W':0, 'O': 1}}, inplace = True)"
   ]
  },
  {
   "cell_type": "markdown",
   "metadata": {},
   "source": [
    "#### Discussion 1.2.1: Re-Encode Categorical Features\n",
    "\n",
    "*For multi-level categoricals (three or more values), you can choose to encode the values using multiple dummy variables*\n",
    "#### I encoded the values with get_dummies\n",
    "\n",
    "*There is one binary variable that takes on non-numeric values. For this one, you need to re-encode the values as numbers or create a dummy variable.*\n",
    "#### I encoded the OST_WEST_KZ to replace the W with a 0 and the O with a 1"
   ]
  },
  {
   "cell_type": "markdown",
   "metadata": {},
   "source": [
    "#### Step 1.2.2: Engineer Mixed-Type Features\n",
    "\n",
    "There are a handful of features that are marked as \"mixed\" in the feature summary that require special treatment in order to be included in the analysis. There are two in particular that deserve attention; the handling of the rest are up to your own choices:\n",
    "- \"PRAEGENDE_JUGENDJAHRE\" combines information on three dimensions: generation by decade, movement (mainstream vs. avantgarde), and nation (east vs. west). While there aren't enough levels to disentangle east from west, you should create two new variables to capture the other two dimensions: an interval-type variable for decade, and a binary variable for movement.\n",
    "- \"CAMEO_INTL_2015\" combines information on two axes: wealth and life stage. Break up the two-digit codes by their 'tens'-place and 'ones'-place digits into two new ordinal variables (which, for the purposes of this project, is equivalent to just treating them as their raw numeric values).\n",
    "- If you decide to keep or engineer new features around the other mixed-type features, make sure you note your steps in the Discussion section.\n",
    "\n",
    "Be sure to check `Data_Dictionary.md` for the details needed to finish these tasks."
   ]
  },
  {
   "cell_type": "code",
   "execution_count": null,
   "metadata": {
    "scrolled": false
   },
   "outputs": [],
   "source": [
    "# Investigate \"PRAEGENDE_JUGENDJAHRE\" and engineer two new variables.\n",
    "\n",
    "mixed = feat_info[feat_info.type == \"mixed\"].attribute\n",
    "print(nan_less_than_30[mixed])"
   ]
  },
  {
   "cell_type": "markdown",
   "metadata": {},
   "source": [
    "#### Let's create the new variables to represent the 'PRAEGENDE_JUGENDJAHRE' category - \"Decade\" and \"Movement\""
   ]
  },
  {
   "cell_type": "code",
   "execution_count": null,
   "metadata": {},
   "outputs": [],
   "source": [
    "#engineer two new variables\n",
    "decade = {1:1, 2:1, 3:2, 4:2, 5:3, 6:3, 7:3, 8:4, 9:4, 10:5, 11:5, 12:5, 13:5, 14:6, 15:6}\n",
    "movement = {1:0, 2:1, 3:0, 4:1, 5:0, 6:1, 7:1, 8:0, 9:1, 10:0, 11:1, 12:0, 13:1, 14:0, 15:1}          \n",
    "nan_less_than_30['DECADE'] = nan_less_than_30['PRAEGENDE_JUGENDJAHRE']\n",
    "nan_less_than_30['DECADE'].replace(decade, inplace = True)\n",
    "nan_less_than_30['MOVEMENT'] = nan_less_than_30['PRAEGENDE_JUGENDJAHRE']\n",
    "nan_less_than_30['MOVEMENT'].replace(movement, inplace = True)"
   ]
  },
  {
   "cell_type": "markdown",
   "metadata": {},
   "source": [
    "#### We can leverage the data dictionary to understand how we need to assign values to the two new variables under the CAMEO_INTL_2015 category"
   ]
  },
  {
   "cell_type": "code",
   "execution_count": null,
   "metadata": {},
   "outputs": [],
   "source": [
    "# Investigate \"CAMEO_INTL_2015\" and engineer two new variables.\n",
    "wealth = {\n",
    "    '11':1, '12':1, '13':1, '14':1, '15':1, \n",
    "    '21':2, '22':2, '23':2, '24':2, '25':2, \n",
    "    '31':3, '32':3, '33':3, '34':3, '35':3, \n",
    "    '41':4, '42':4, '43':4, '44':4, '45':4, \n",
    "    '51':5, '52':5, '53':5, '54':5, '55':5, \n",
    "}\n",
    "\n",
    "life_stage ={\n",
    "    '11':1, '12':2, '13':3, '14':4, '15':5, \n",
    "    '21':1, '22':2, '23':3, '24':4, '25':5, \n",
    "    '31':1, '32':2, '33':3, '34':4, '35':5, \n",
    "    '41':1, '42':2, '43':3, '44':4, '45':5, \n",
    "    '51':1, '52':2, '53':3, '54':4, '55':5, \n",
    "}\n",
    "\n",
    "nan_less_than_30['WEALTH'] = nan_less_than_30['CAMEO_INTL_2015']\n",
    "nan_less_than_30['WEALTH'].replace(wealth, inplace = True)\n",
    "nan_less_than_30['LIFE_STAGE'] = nan_less_than_30['CAMEO_INTL_2015']\n",
    "nan_less_than_30['LIFE_STAGE'].replace(life_stage, inplace = True)"
   ]
  },
  {
   "cell_type": "markdown",
   "metadata": {},
   "source": [
    "#### Let's drop the rest of the mixed data types and save it to the new data set."
   ]
  },
  {
   "cell_type": "code",
   "execution_count": null,
   "metadata": {},
   "outputs": [],
   "source": [
    "cleaned_data = nan_less_than_30.drop(mixed, axis = 1)"
   ]
  },
  {
   "cell_type": "code",
   "execution_count": null,
   "metadata": {},
   "outputs": [],
   "source": [
    "cleaned_data.sample(10)"
   ]
  },
  {
   "cell_type": "markdown",
   "metadata": {},
   "source": [
    "#### Discussion 1.2.2: Engineer Mixed-Type Features\n",
    "\n",
    "I made the following edits:\n",
    "\n",
    "- PRAEGENDE_JUGENDJAHRE - Added additional columns called \"Decade\" and \"Movement\" and assigned them values based of the data dictionary\n",
    "\n",
    "- CAMEO_INTL_2015 - Added additional columns called \"Wealth\" and \"Life_Stage\" and assigned them values based of the data dictionary\n",
    "\n",
    "- I dedcided to drop the rest of mixed features to simplify the process"
   ]
  },
  {
   "cell_type": "markdown",
   "metadata": {},
   "source": [
    "#### Step 1.2.3: Complete Feature Selection\n",
    "\n",
    "In order to finish this step up, you need to make sure that your data frame now only has the columns that you want to keep. To summarize, the dataframe should consist of the following:\n",
    "- All numeric, interval, and ordinal type columns from the original dataset.\n",
    "- Binary categorical features (all numerically-encoded).\n",
    "- Engineered features from other multi-level categorical features and mixed features.\n",
    "\n",
    "Make sure that for any new columns that you have engineered, that you've excluded the original columns from the final dataset. Otherwise, their values will interfere with the analysis later on the project. For example, you should not keep \"PRAEGENDE_JUGENDJAHRE\", since its values won't be useful for the algorithm: only the values derived from it in the engineered features you created should be retained. As a reminder, your data should only be from **the subset with few or no missing values**."
   ]
  },
  {
   "cell_type": "code",
   "execution_count": null,
   "metadata": {},
   "outputs": [],
   "source": [
    "# If there are other re-engineering tasks you need to perform, make sure you\n",
    "# take care of them here. (Dealing with missing data will come in step 2.1.)\n",
    "\n"
   ]
  },
  {
   "cell_type": "code",
   "execution_count": null,
   "metadata": {},
   "outputs": [],
   "source": [
    "# Do whatever you need to in order to ensure that the dataframe only contains\n",
    "# the columns that should be passed to the algorithm functions.\n",
    "\n"
   ]
  },
  {
   "cell_type": "markdown",
   "metadata": {},
   "source": [
    "### Step 1.3: Create a Cleaning Function\n",
    "\n",
    "Even though you've finished cleaning up the general population demographics data, it's important to look ahead to the future and realize that you'll need to perform the same cleaning steps on the customer demographics data. In this substep, complete the function below to execute the main feature selection, encoding, and re-engineering steps you performed above. Then, when it comes to looking at the customer data in Step 3, you can just run this function on that DataFrame to get the trimmed dataset in a single step."
   ]
  },
  {
   "cell_type": "code",
   "execution_count": null,
   "metadata": {},
   "outputs": [],
   "source": [
    "def clean_data(df):\n",
    "    \"\"\"\n",
    "    Perform feature trimming, re-encoding, and engineering for demographics\n",
    "    data\n",
    "    \n",
    "    INPUT: Demographics DataFrame\n",
    "    OUTPUT: Trimmed and cleaned demographics DataFrame\n",
    "    \"\"\"\n",
    "    \n",
    "    # Put in code here to execute all main cleaning steps:\n",
    "    # convert missing value codes into NaNs, ...\n",
    "    feat_info = pd.read_csv('AZDIAS_Feature_Summary.csv', sep=';')\n",
    "    \n",
    "    for indx in range(len(feat_info)):\n",
    "        missing_or_unknown = feat_info.iloc[indx]['missing_or_unknown']\n",
    "        missing_or_unknown = missing_or_unknown.strip('[')\n",
    "        missing_or_unknown = missing_or_unknown.strip(']')\n",
    "        missing_or_unknown = missing_or_unknown.split(sep=',')\n",
    "        missing_or_unknown = [int(value) if (value!='X' and value!='XX' and value!='') else value for value in missing_or_unknown]\n",
    "        if missing_or_unknown != ['']:\n",
    "            df = df.replace({feat_info.iloc[indx]['attribute']: missing_or_unknown}, np.nan)\n",
    "    \n",
    "    \n",
    "    # remove selected columns and rows, ...\n",
    "    dropped_columns = ['TITEL_KZ','AGER_TYP','KK_KUNDENTYP','KBA05_BAUMAX','GEBURTSJAHR','ALTER_HH']\n",
    "    df.drop(dropped_columns, axis=1, inplace=True)\n",
    "    \n",
    "    nan_rows = df.isnull().sum(axis=1)\n",
    "    nan_less_than_30 = df[nan_rows<30]\n",
    "    \n",
    "    # select, re-encode, and engineer column values.\n",
    "    \n",
    "    feat_info = feat_info[feat_info.attribute.isin(nan_less_than_30)]\n",
    "    cat = feat_info[feat_info.type == \"categorical\"]['attribute']\n",
    "\n",
    "   \n",
    "    binary = []\n",
    "    multi = []\n",
    "\n",
    "    for f in cat:\n",
    "        if(nan_less_than_30[f].nunique()> 2):\n",
    "            multi.append(f)\n",
    "        else:\n",
    "            binary.append(f)\n",
    "\n",
    "    # Re-encode categorical variable(s) to be kept in the analysis.\n",
    "    nan_less_than_30 = pd.get_dummies(nan_less_than_30, columns = multi)\n",
    "    nan_less_than_30.replace({'OST_WEST_KZ':{'W':0, 'O': 1}}, inplace = True)\n",
    "    \n",
    "    #engineer two new variables\n",
    "    \n",
    "    mixed = feat_info[feat_info.type == \"mixed\"].attribute\n",
    "    \n",
    "    decade = {1:1, 2:1, 3:2, 4:2, 5:3, 6:3, 7:3, 8:4, 9:4, 10:5, 11:5, 12:5, 13:5, 14:6, 15:6}\n",
    "    movement = {1:0, 2:1, 3:0, 4:1, 5:0, 6:1, 7:1, 8:0, 9:1, 10:0, 11:1, 12:0, 13:1, 14:0, 15:1}          \n",
    "    nan_less_than_30['DECADE'] = nan_less_than_30['PRAEGENDE_JUGENDJAHRE']\n",
    "    nan_less_than_30['DECADE'].replace(decade, inplace = True)\n",
    "    nan_less_than_30['MOVEMENT'] = nan_less_than_30['PRAEGENDE_JUGENDJAHRE']\n",
    "    nan_less_than_30['MOVEMENT'].replace(movement, inplace = True)\n",
    "    \n",
    "    wealth = {\n",
    "    '11':1, '12':1, '13':1, '14':1, '15':1, \n",
    "    '21':2, '22':2, '23':2, '24':2, '25':2, \n",
    "    '31':3, '32':3, '33':3, '34':3, '35':3, \n",
    "    '41':4, '42':4, '43':4, '44':4, '45':4, \n",
    "    '51':5, '52':5, '53':5, '54':5, '55':5, \n",
    "    }\n",
    "\n",
    "    life_stage ={\n",
    "    '11':1, '12':2, '13':3, '14':4, '15':5, \n",
    "    '21':1, '22':2, '23':3, '24':4, '25':5, \n",
    "    '31':1, '32':2, '33':3, '34':4, '35':5, \n",
    "    '41':1, '42':2, '43':3, '44':4, '45':5, \n",
    "    '51':1, '52':2, '53':3, '54':4, '55':5, \n",
    "    }\n",
    "\n",
    "    nan_less_than_30['WEALTH'] = nan_less_than_30['CAMEO_INTL_2015']\n",
    "    nan_less_than_30['WEALTH'].replace(wealth, inplace = True)\n",
    "    nan_less_than_30['LIFE_STAGE'] = nan_less_than_30['CAMEO_INTL_2015']\n",
    "    nan_less_than_30['LIFE_STAGE'].replace(life_stage, inplace = True)\n",
    "    \n",
    "    cleaned_data = nan_less_than_30.drop(mixed, axis = 1)\n",
    "    \n",
    "    return cleaned_data\n",
    "    \n",
    "    "
   ]
  },
  {
   "cell_type": "markdown",
   "metadata": {},
   "source": [
    "## Step 2: Feature Transformation\n",
    "\n",
    "### Step 2.1: Apply Feature Scaling\n",
    "\n",
    "Before we apply dimensionality reduction techniques to the data, we need to perform feature scaling so that the principal component vectors are not influenced by the natural differences in scale for features. Starting from this part of the project, you'll want to keep an eye on the [API reference page for sklearn](http://scikit-learn.org/stable/modules/classes.html) to help you navigate to all of the classes and functions that you'll need. In this substep, you'll need to check the following:\n",
    "\n",
    "- sklearn requires that data not have missing values in order for its estimators to work properly. So, before applying the scaler to your data, make sure that you've cleaned the DataFrame of the remaining missing values. This can be as simple as just removing all data points with missing data, or applying an [Imputer](https://scikit-learn.org/0.16/modules/generated/sklearn.preprocessing.Imputer.html) to replace all missing values. You might also try a more complicated procedure where you temporarily remove missing values in order to compute the scaling parameters before re-introducing those missing values and applying imputation. Think about how much missing data you have and what possible effects each approach might have on your analysis, and justify your decision in the discussion section below.\n",
    "- For the actual scaling function, a [StandardScaler](http://scikit-learn.org/stable/modules/generated/sklearn.preprocessing.StandardScaler.html) instance is suggested, scaling each feature to mean 0 and standard deviation 1.\n",
    "- For these classes, you can make use of the `.fit_transform()` method to both fit a procedure to the data as well as apply the transformation to the data at the same time. Don't forget to keep the fit sklearn objects handy, since you'll be applying them to the customer demographics data towards the end of the project."
   ]
  },
  {
   "cell_type": "code",
   "execution_count": null,
   "metadata": {},
   "outputs": [],
   "source": [
    "# If you've not yet cleaned the dataset of all NaN values, then investigate and\n",
    "# do that now.\n",
    "az = pd.read_csv(\"Udacity_AZDIAS_Subset.csv\",sep=';')\n",
    "clean = clean_data(az)"
   ]
  },
  {
   "cell_type": "markdown",
   "metadata": {},
   "source": [
    "#### Let's use the imputer to replace the missing values with the most frequent value in each column."
   ]
  },
  {
   "cell_type": "code",
   "execution_count": null,
   "metadata": {},
   "outputs": [],
   "source": [
    "imputer = Imputer(strategy='most_frequent')\n",
    "df = imputer.fit_transform(clean)\n",
    "df = pd.DataFrame(df, columns=clean.columns)"
   ]
  },
  {
   "cell_type": "code",
   "execution_count": null,
   "metadata": {},
   "outputs": [],
   "source": [
    "# Apply feature scaling to the general population demographics data.\n",
    "scaler = StandardScaler()\n",
    "df_scaled = scaler.fit_transform(df)\n",
    "df_scaled = pd.DataFrame(df_scaled, columns = df.columns)"
   ]
  },
  {
   "cell_type": "markdown",
   "metadata": {},
   "source": [
    "### Discussion 2.1: Apply Feature Scaling\n",
    "\n",
    "I decided to replace all of the NaNs with the \"most frequent\" value used for that column.  I then used the StandardScaler function to scale the values."
   ]
  },
  {
   "cell_type": "markdown",
   "metadata": {},
   "source": [
    "### Step 2.2: Perform Dimensionality Reduction\n",
    "\n",
    "On your scaled data, you are now ready to apply dimensionality reduction techniques.\n",
    "\n",
    "- Use sklearn's [PCA](http://scikit-learn.org/stable/modules/generated/sklearn.decomposition.PCA.html) class to apply principal component analysis on the data, thus finding the vectors of maximal variance in the data. To start, you should not set any parameters (so all components are computed) or set a number of components that is at least half the number of features (so there's enough features to see the general trend in variability).\n",
    "- Check out the ratio of variance explained by each principal component as well as the cumulative variance explained. Try plotting the cumulative or sequential values using matplotlib's [`plot()`](https://matplotlib.org/api/_as_gen/matplotlib.pyplot.plot.html) function. Based on what you find, select a value for the number of transformed features you'll retain for the clustering part of the project.\n",
    "- Once you've made a choice for the number of components to keep, make sure you re-fit a PCA instance to perform the decided-on transformation."
   ]
  },
  {
   "cell_type": "code",
   "execution_count": null,
   "metadata": {},
   "outputs": [],
   "source": [
    "# Apply PCA to the data.\n",
    "pca_mach = PCA()\n",
    "pca_mach.fit_transform(df_scaled)"
   ]
  },
  {
   "cell_type": "code",
   "execution_count": 7,
   "metadata": {},
   "outputs": [
    {
     "data": {
      "image/png": "[encoded data removed]",
      "text/plain": [
       "<matplotlib.figure.Figure at 0x7fee645c4438>"
      ]
     },
     "metadata": {
      "needs_background": "light"
     },
     "output_type": "display_data"
    }
   ],
   "source": [
    "# Investigate the variance accounted for by each principal component.\n",
    "plt.bar(range(len(pca_mach.explained_variance_ratio_)), pca_mach.explained_variance_ratio_)\n",
    "plt.title('Variance')\n",
    "plt.xlabel('Principal Component')\n",
    "plt.ylabel('Variance Ratio');"
   ]
  },
  {
   "cell_type": "code",
   "execution_count": 8,
   "metadata": {},
   "outputs": [
    {
     "data": {
      "image/png": "[encoded data removed]",
      "text/plain": [
       "<matplotlib.figure.Figure at 0x7fee33687c18>"
      ]
     },
     "metadata": {
      "needs_background": "light"
     },
     "output_type": "display_data"
    }
   ],
   "source": [
    "cvals = np.cumsum(pca_mach.explained_variance_ratio_) \n",
    "plt.plot(range(len(pca_mach.explained_variance_ratio_)), cvals)\n",
    "plt.title(\"Cumulative Variance Explained Per Principal Component\")\n",
    "plt.xlabel(\"Principal Component\")\n",
    "plt.ylabel(\"Variance\")\n",
    "plt.show()"
   ]
  },
  {
   "cell_type": "code",
   "execution_count": 9,
   "metadata": {},
   "outputs": [],
   "source": [
    "# Re-apply PCA to the data while selecting for number of components to retain.\n",
    "pca = PCA(n_components = 100)\n",
    "az_pca = pca.fit_transform(df_scaled)"
   ]
  },
  {
   "cell_type": "code",
   "execution_count": 10,
   "metadata": {},
   "outputs": [
    {
     "data": {
      "image/png": "[encoded data removed]",
      "text/plain": [
       "<matplotlib.figure.Figure at 0x7fee356960f0>"
      ]
     },
     "metadata": {
      "needs_background": "light"
     },
     "output_type": "display_data"
    }
   ],
   "source": [
    "plt.bar(range(len(pca.explained_variance_ratio_)), pca.explained_variance_ratio_)\n",
    "plt.title('Variance')\n",
    "plt.xlabel('Principal Component')\n",
    "plt.ylabel('Variance Ratio');"
   ]
  },
  {
   "cell_type": "code",
   "execution_count": 11,
   "metadata": {},
   "outputs": [
    {
     "data": {
      "image/png": "[encoded data removed]",
      "text/plain": [
       "<matplotlib.figure.Figure at 0x7fee33398f98>"
      ]
     },
     "metadata": {
      "needs_background": "light"
     },
     "output_type": "display_data"
    }
   ],
   "source": [
    "cvals = np.cumsum(pca.explained_variance_ratio_) \n",
    "plt.plot(range(len(pca.explained_variance_ratio_)), cvals)\n",
    "plt.title(\"Cumulative Variance\")\n",
    "plt.xlabel(\"Principal Component\")\n",
    "plt.ylabel(\"Variance\")\n",
    "plt.show()"
   ]
  },
  {
   "cell_type": "markdown",
   "metadata": {},
   "source": [
    "### Discussion 2.2: Perform Dimensionality Reduction\n",
    "\n",
    "I tried setting the number of components to contain to 80 at first and got 80% for the cumulative variance.  I then changed the number of components to retain to 100 and got 90% of the cumulative variance explained, so I decided to stay with 100 components."
   ]
  },
  {
   "cell_type": "markdown",
   "metadata": {},
   "source": [
    "### Step 2.3: Interpret Principal Components\n",
    "\n",
    "Now that we have our transformed principal components, it's a nice idea to check out the weight of each variable on the first few components to see if they can be interpreted in some fashion.\n",
    "\n",
    "As a reminder, each principal component is a unit vector that points in the direction of highest variance (after accounting for the variance captured by earlier principal components). The further a weight is from zero, the more the principal component is in the direction of the corresponding feature. If two features have large weights of the same sign (both positive or both negative), then increases in one tend expect to be associated with increases in the other. To contrast, features with different signs can be expected to show a negative correlation: increases in one variable should result in a decrease in the other.\n",
    "\n",
    "- To investigate the features, you should map each weight to their corresponding feature name, then sort the features according to weight. The most interesting features for each principal component, then, will be those at the beginning and end of the sorted list. Use the data dictionary document to help you understand these most prominent features, their relationships, and what a positive or negative value on the principal component might indicate.\n",
    "- You should investigate and interpret feature associations from the first three principal components in this substep. To help facilitate this, you should write a function that you can call at any time to print the sorted list of feature weights, for the *i*-th principal component. This might come in handy in the next step of the project, when you interpret the tendencies of the discovered clusters."
   ]
  },
  {
   "cell_type": "code",
   "execution_count": 12,
   "metadata": {},
   "outputs": [],
   "source": [
    "# Map weights for the first principal component to corresponding feature names\n",
    "# and then print the linked values, sorted by weight.\n",
    "# HINT: Try defining a function here or in a new cell that you can reuse in the\n",
    "# other cells.\n",
    "def pca_weights(df, pca, w):\n",
    "    weighted_df = pd.DataFrame(list(pca.components_), columns = list(df.columns)).iloc[w]\n",
    "    weighted_df.sort_values(ascending = False, inplace = True)\n",
    "    weighted_df = pd.concat([weighted_df.head(), weighted_df.tail()])\n",
    "    \n",
    "    return weighted_df\n"
   ]
  },
  {
   "cell_type": "code",
   "execution_count": 13,
   "metadata": {},
   "outputs": [
    {
     "data": {
      "text/plain": [
       "LP_STATUS_GROB_1.0    0.197375\n",
       "HH_EINKOMMEN_SCORE    0.186364\n",
       "WEALTH                0.184855\n",
       "PLZ8_ANTG3            0.181308\n",
       "PLZ8_ANTG4            0.174968\n",
       "KBA05_ANTG1          -0.180753\n",
       "KBA05_GBZ            -0.181284\n",
       "PLZ8_ANTG1           -0.182561\n",
       "MOBI_REGIO           -0.188094\n",
       "FINANZ_MINIMALIST    -0.195296\n",
       "Name: 0, dtype: float64"
      ]
     },
     "execution_count": 13,
     "metadata": {},
     "output_type": "execute_result"
    }
   ],
   "source": [
    "pca_weights(df_scaled, pca, 0)"
   ]
  },
  {
   "cell_type": "code",
   "execution_count": 14,
   "metadata": {},
   "outputs": [
    {
     "data": {
      "text/plain": [
       "ALTERSKATEGORIE_GROB     0.231172\n",
       "FINANZ_VORSORGER         0.217138\n",
       "ZABEOTYP_3               0.200270\n",
       "SEMIO_ERL                0.179610\n",
       "SEMIO_LUST               0.161903\n",
       "SEMIO_TRADV             -0.206575\n",
       "SEMIO_REL               -0.213618\n",
       "FINANZ_UNAUFFAELLIGER   -0.214836\n",
       "FINANZ_SPARER           -0.224553\n",
       "DECADE                  -0.229114\n",
       "Name: 1, dtype: float64"
      ]
     },
     "execution_count": 14,
     "metadata": {},
     "output_type": "execute_result"
    }
   ],
   "source": [
    "# Map weights for the second principal component to corresponding feature names\n",
    "# and then print the linked values, sorted by weight.\n",
    "pca_weights(df_scaled, pca, 1)"
   ]
  },
  {
   "cell_type": "code",
   "execution_count": 15,
   "metadata": {},
   "outputs": [
    {
     "data": {
      "text/plain": [
       "SEMIO_VERT     0.318773\n",
       "SEMIO_FAM      0.260618\n",
       "SEMIO_SOZ      0.257120\n",
       "SEMIO_KULT     0.251684\n",
       "FINANZTYP_5    0.135423\n",
       "SEMIO_ERL     -0.208265\n",
       "SEMIO_KRIT    -0.267122\n",
       "SEMIO_DOM     -0.283669\n",
       "SEMIO_KAEM    -0.314769\n",
       "ANREDE_KZ     -0.344750\n",
       "Name: 2, dtype: float64"
      ]
     },
     "execution_count": 15,
     "metadata": {},
     "output_type": "execute_result"
    }
   ],
   "source": [
    "# Map weights for the third principal component to corresponding feature names\n",
    "# and then print the linked values, sorted by weight.\n",
    "pca_weights(df_scaled, pca, 2)"
   ]
  },
  {
   "cell_type": "markdown",
   "metadata": {},
   "source": [
    "### Discussion 2.3: Interpret Principal Components\n",
    "\n",
    "Here are the top 3 Postitive Values for the first few Principal Components I generated...\n",
    "\n",
    "LP_STATUS_GROB_1.0 <br />   \n",
    "HH_EINKOMMEN_SCORE <br />\n",
    "\n",
    "WEALTH \n",
    "\n",
    "ALTERSKATEGORIE_GROB <br />\n",
    "\n",
    "FINANZ_VORSORGER <br />\n",
    "\n",
    "ZABEOTYP_3\n",
    "\n",
    "SEMIO_VERT <br />\n",
    "\n",
    "SEMIO_FAM <br />\n",
    "\n",
    "SEMIO_SOZ\n",
    "\n"
   ]
  },
  {
   "cell_type": "markdown",
   "metadata": {},
   "source": [
    "## Step 3: Clustering\n",
    "\n",
    "### Step 3.1: Apply Clustering to General Population\n",
    "\n",
    "You've assessed and cleaned the demographics data, then scaled and transformed them. Now, it's time to see how the data clusters in the principal components space. In this substep, you will apply k-means clustering to the dataset and use the average within-cluster distances from each point to their assigned cluster's centroid to decide on a number of clusters to keep.\n",
    "\n",
    "- Use sklearn's [KMeans](http://scikit-learn.org/stable/modules/generated/sklearn.cluster.KMeans.html#sklearn.cluster.KMeans) class to perform k-means clustering on the PCA-transformed data.\n",
    "- Then, compute the average difference from each point to its assigned cluster's center. **Hint**: The KMeans object's `.score()` method might be useful here, but note that in sklearn, scores tend to be defined so that larger is better. Try applying it to a small, toy dataset, or use an internet search to help your understanding.\n",
    "- Perform the above two steps for a number of different cluster counts. You can then see how the average distance decreases with an increasing number of clusters. However, each additional cluster provides a smaller net benefit. Use this fact to select a final number of clusters in which to group the data. **Warning**: because of the large size of the dataset, it can take a long time for the algorithm to resolve. The more clusters to fit, the longer the algorithm will take. You should test for cluster counts through at least 10 clusters to get the full picture, but you shouldn't need to test for a number of clusters above about 30.\n",
    "- Once you've selected a final number of clusters to use, re-fit a KMeans instance to perform the clustering operation. Make sure that you also obtain the cluster assignments for the general demographics data, since you'll be using them in the final Step 3.3."
   ]
  },
  {
   "cell_type": "code",
   "execution_count": 16,
   "metadata": {},
   "outputs": [],
   "source": [
    "# Over a number of different cluster counts...\n",
    "scores = []\n",
    "clusters = list(range(2, 11))\n",
    "\n",
    "    # run k-means clustering on the data and...\n",
    "for k in clusters:\n",
    "    kmeans = KMeans(n_clusters = k)\n",
    "    model = kmeans.fit(az_pca)\n",
    "    \n",
    "    # compute the average within-cluster distances.\n",
    "    score = np.abs(model.score(az_pca))\n",
    "    scores.append(score)\n",
    "    "
   ]
  },
  {
   "cell_type": "code",
   "execution_count": 17,
   "metadata": {},
   "outputs": [
    {
     "data": {
      "image/png": "[encoded data removed]",
      "text/plain": [
       "<matplotlib.figure.Figure at 0x7fee333ef898>"
      ]
     },
     "metadata": {
      "needs_background": "light"
     },
     "output_type": "display_data"
    }
   ],
   "source": [
    "# Investigate the change in within-cluster distance across number of clusters.\n",
    "# HINT: Use matplotlib's plot function to visualize this relationship.\n",
    "plt.plot(clusters, scores)\n",
    "plt.title('Clusters And Score')\n",
    "plt.xlabel('K')\n",
    "plt.ylabel('Score')\n",
    "plt.show();\n"
   ]
  },
  {
   "cell_type": "code",
   "execution_count": 18,
   "metadata": {},
   "outputs": [],
   "source": [
    "# Re-fit the k-means model with the selected number of clusters and obtain\n",
    "# cluster predictions for the general population demographics data.\n",
    "\n",
    "kmeans = KMeans(n_clusters = 10)\n",
    "model = kmeans.fit(az_pca)\n",
    "cluster_predict_data = model.predict(az_pca)"
   ]
  },
  {
   "cell_type": "markdown",
   "metadata": {},
   "source": [
    "### Discussion 3.1: Apply Clustering to General Population\n",
    "\n",
    "Given the amount of time it takes to run the model and the suggestion that no more that 10 were needed, I decided to keep the cluster at 10."
   ]
  },
  {
   "cell_type": "markdown",
   "metadata": {},
   "source": [
    "### Step 3.2: Apply All Steps to the Customer Data\n",
    "\n",
    "Now that you have clusters and cluster centers for the general population, it's time to see how the customer data maps on to those clusters. Take care to not confuse this for re-fitting all of the models to the customer data. Instead, you're going to use the fits from the general population to clean, transform, and cluster the customer data. In the last step of the project, you will interpret how the general population fits apply to the customer data.\n",
    "\n",
    "- Don't forget when loading in the customers data, that it is semicolon (`;`) delimited.\n",
    "- Apply the same feature wrangling, selection, and engineering steps to the customer demographics using the `clean_data()` function you created earlier. (You can assume that the customer demographics data has similar meaning behind missing data patterns as the general demographics data.)\n",
    "- Use the sklearn objects from the general demographics data, and apply their transformations to the customers data. That is, you should not be using a `.fit()` or `.fit_transform()` method to re-fit the old objects, nor should you be creating new sklearn objects! Carry the data through the feature scaling, PCA, and clustering steps, obtaining cluster assignments for all of the data in the customer demographics data."
   ]
  },
  {
   "cell_type": "code",
   "execution_count": 19,
   "metadata": {},
   "outputs": [],
   "source": [
    "# Load in the customer demographics data.\n",
    "customers = pd.read_csv('Udacity_CUSTOMERS_Subset.csv', sep=';')"
   ]
  },
  {
   "cell_type": "code",
   "execution_count": 20,
   "metadata": {},
   "outputs": [],
   "source": [
    "# Apply preprocessing, feature transformation, and clustering from the general\n",
    "# demographics onto the customer data, obtaining cluster predictions for the\n",
    "# customer demographics data.\n",
    "customers_clean = clean_data(customers)"
   ]
  },
  {
   "cell_type": "code",
   "execution_count": 23,
   "metadata": {},
   "outputs": [],
   "source": [
    "#Need to insert a missing column from the data frame\n",
    "customers_clean['GEBAEUDETYP_5.0'] = 0"
   ]
  },
  {
   "cell_type": "code",
   "execution_count": 24,
   "metadata": {},
   "outputs": [],
   "source": [
    "customers_imputed = pd.DataFrame(imputer.transform(customers_clean), columns = customers_clean.columns)"
   ]
  },
  {
   "cell_type": "code",
   "execution_count": 25,
   "metadata": {},
   "outputs": [],
   "source": [
    "customers_scaled = pd.DataFrame(scaler.transform(customers_imputed), columns = customers_imputed.columns)"
   ]
  },
  {
   "cell_type": "code",
   "execution_count": 26,
   "metadata": {},
   "outputs": [],
   "source": [
    "customers_pca = pca.transform(customers_scaled)  "
   ]
  },
  {
   "cell_type": "code",
   "execution_count": 27,
   "metadata": {},
   "outputs": [],
   "source": [
    "customers_pred = model.predict(customers_pca)"
   ]
  },
  {
   "cell_type": "markdown",
   "metadata": {},
   "source": [
    "### Step 3.3: Compare Customer Data to Demographics Data\n",
    "\n",
    "At this point, you have clustered data based on demographics of the general population of Germany, and seen how the customer data for a mail-order sales company maps onto those demographic clusters. In this final substep, you will compare the two cluster distributions to see where the strongest customer base for the company is.\n",
    "\n",
    "Consider the proportion of persons in each cluster for the general population, and the proportions for the customers. If we think the company's customer base to be universal, then the cluster assignment proportions should be fairly similar between the two. If there are only particular segments of the population that are interested in the company's products, then we should see a mismatch from one to the other. If there is a higher proportion of persons in a cluster for the customer data compared to the general population (e.g. 5% of persons are assigned to a cluster for the general population, but 15% of the customer data is closest to that cluster's centroid) then that suggests the people in that cluster to be a target audience for the company. On the other hand, the proportion of the data in a cluster being larger in the general population than the customer data (e.g. only 2% of customers closest to a population centroid that captures 6% of the data) suggests that group of persons to be outside of the target demographics.\n",
    "\n",
    "Take a look at the following points in this step:\n",
    "\n",
    "- Compute the proportion of data points in each cluster for the general population and the customer data. Visualizations will be useful here: both for the individual dataset proportions, but also to visualize the ratios in cluster representation between groups. Seaborn's [`countplot()`](https://seaborn.pydata.org/generated/seaborn.countplot.html) or [`barplot()`](https://seaborn.pydata.org/generated/seaborn.barplot.html) function could be handy.\n",
    "  - Recall the analysis you performed in step 1.1.3 of the project, where you separated out certain data points from the dataset if they had more than a specified threshold of missing values. If you found that this group was qualitatively different from the main bulk of the data, you should treat this as an additional data cluster in this analysis. Make sure that you account for the number of data points in this subset, for both the general population and customer datasets, when making your computations!\n",
    "- Which cluster or clusters are overrepresented in the customer dataset compared to the general population? Select at least one such cluster and infer what kind of people might be represented by that cluster. Use the principal component interpretations from step 2.3 or look at additional components to help you make this inference. Alternatively, you can use the `.inverse_transform()` method of the PCA and StandardScaler objects to transform centroids back to the original data space and interpret the retrieved values directly.\n",
    "- Perform a similar investigation for the underrepresented clusters. Which cluster or clusters are underrepresented in the customer dataset compared to the general population, and what kinds of people are typified by these clusters?"
   ]
  },
  {
   "cell_type": "code",
   "execution_count": 45,
   "metadata": {},
   "outputs": [
    {
     "data": {
      "image/png": "[encoded data removed]",
      "text/plain": [
       "<matplotlib.figure.Figure at 0x7fee3341c5c0>"
      ]
     },
     "metadata": {
      "needs_background": "light"
     },
     "output_type": "display_data"
    }
   ],
   "source": [
    "# Compare the proportion of data in each cluster for the customer data to the\n",
    "# proportion of data in each cluster for the general population.\n",
    "\n",
    "fig, (ax1, ax2) = plt.subplots(1, 2)\n",
    "fig.set_figwidth(10)\n",
    "\n",
    "ax1.set_title('General Prediction Clusters')\n",
    "sns.countplot(cluster_predict_data ,ax=ax1)\n",
    "ax2.set_title('Customers')\n",
    "sns.countplot(customers_pred,ax=ax2)\n",
    "plt.show()"
   ]
  },
  {
   "cell_type": "markdown",
   "metadata": {},
   "source": [
    "#### Cluster 4 appears to be overpresented"
   ]
  },
  {
   "cell_type": "code",
   "execution_count": 40,
   "metadata": {},
   "outputs": [
    {
     "data": {
      "text/plain": [
       "ALTERSKATEGORIE_GROB     3.363561\n",
       "ANREDE_KZ                1.505353\n",
       "FINANZ_MINIMALIST        4.549510\n",
       "FINANZ_SPARER            1.569775\n",
       "FINANZ_VORSORGER         4.261893\n",
       "FINANZ_ANLEGER           1.759936\n",
       "FINANZ_UNAUFFAELLIGER    2.094284\n",
       "FINANZ_HAUSBAUER         2.218234\n",
       "GREEN_AVANTGARDE         0.970229\n",
       "HEALTH_TYP               2.080295\n",
       "RETOURTYP_BK_S           3.764562\n",
       "SEMIO_SOZ                4.044727\n",
       "SEMIO_FAM                3.430767\n",
       "SEMIO_REL                2.968136\n",
       "SEMIO_MAT                3.125748\n",
       "SEMIO_VERT               4.674142\n",
       "SEMIO_LUST               5.309483\n",
       "SEMIO_ERL                5.191635\n",
       "SEMIO_KULT               3.482973\n",
       "SEMIO_RAT                3.153949\n",
       "SEMIO_KRIT               4.409987\n",
       "SEMIO_DOM                4.683471\n",
       "SEMIO_KAEM               4.235315\n",
       "SEMIO_PFLICHT            3.173607\n",
       "SEMIO_TRADV              3.034360\n",
       "SOHO_KZ                  0.008382\n",
       "VERS_TYP                 1.506060\n",
       "ANZ_PERSONEN             2.225576\n",
       "ANZ_TITEL                0.012764\n",
       "HH_EINKOMMEN_SCORE       2.359235\n",
       "                           ...   \n",
       "CAMEO_DEU_2015_5B        0.009334\n",
       "CAMEO_DEU_2015_5C        0.011086\n",
       "CAMEO_DEU_2015_5D        0.006475\n",
       "CAMEO_DEU_2015_5E        0.021096\n",
       "CAMEO_DEU_2015_5F        0.005234\n",
       "CAMEO_DEU_2015_6A        0.009334\n",
       "CAMEO_DEU_2015_6B        0.003875\n",
       "CAMEO_DEU_2015_6C        0.052849\n",
       "CAMEO_DEU_2015_6D        0.018054\n",
       "CAMEO_DEU_2015_6E        0.006902\n",
       "CAMEO_DEU_2015_6F        0.006599\n",
       "CAMEO_DEU_2015_7A        0.004881\n",
       "CAMEO_DEU_2015_7B        0.017357\n",
       "CAMEO_DEU_2015_7C        0.010185\n",
       "CAMEO_DEU_2015_7D        0.004568\n",
       "CAMEO_DEU_2015_7E        0.002101\n",
       "CAMEO_DEU_2015_8A        0.003584\n",
       "CAMEO_DEU_2015_8B        0.008596\n",
       "CAMEO_DEU_2015_8C        0.010050\n",
       "CAMEO_DEU_2015_8D        0.008968\n",
       "CAMEO_DEU_2015_9A        0.000391\n",
       "CAMEO_DEU_2015_9B        0.003256\n",
       "CAMEO_DEU_2015_9C        0.003320\n",
       "CAMEO_DEU_2015_9D       -0.000776\n",
       "CAMEO_DEU_2015_9E        0.001695\n",
       "DECADE                   0.002071\n",
       "MOVEMENT                 3.475096\n",
       "WEALTH                   0.970229\n",
       "LIFE_STAGE               1.990239\n",
       "GEBAEUDETYP_5.0          3.642167\n",
       "Length: 192, dtype: float64"
      ]
     },
     "execution_count": 40,
     "metadata": {},
     "output_type": "execute_result"
    }
   ],
   "source": [
    "cluster_4 = scaler.inverse_transform(pca.inverse_transform(model.cluster_centers_[4]))\n",
    "overrep = pd.Series(data = cluster_4, index = customers_imputed.columns)\n",
    "overrep"
   ]
  },
  {
   "cell_type": "markdown",
   "metadata": {},
   "source": [
    "#### Cluster 1 appears to be undereppresented"
   ]
  },
  {
   "cell_type": "code",
   "execution_count": 42,
   "metadata": {},
   "outputs": [
    {
     "data": {
      "text/plain": [
       "ALTERSKATEGORIE_GROB     1.897130\n",
       "ANREDE_KZ                0.966883\n",
       "FINANZ_MINIMALIST        1.866162\n",
       "FINANZ_SPARER            4.409708\n",
       "FINANZ_VORSORGER         1.973681\n",
       "FINANZ_ANLEGER           3.569917\n",
       "FINANZ_UNAUFFAELLIGER    3.817558\n",
       "FINANZ_HAUSBAUER         3.631839\n",
       "GREEN_AVANTGARDE         0.091259\n",
       "HEALTH_TYP               2.364892\n",
       "RETOURTYP_BK_S           2.686499\n",
       "SEMIO_SOZ                6.522697\n",
       "SEMIO_FAM                6.716406\n",
       "SEMIO_REL                6.188652\n",
       "SEMIO_MAT                5.149025\n",
       "SEMIO_VERT               6.026717\n",
       "SEMIO_LUST               3.064847\n",
       "SEMIO_ERL                2.298560\n",
       "SEMIO_KULT               6.809620\n",
       "SEMIO_RAT                4.062194\n",
       "SEMIO_KRIT               2.833304\n",
       "SEMIO_DOM                2.850551\n",
       "SEMIO_KAEM               2.464550\n",
       "SEMIO_PFLICHT            5.559124\n",
       "SEMIO_TRADV              4.808381\n",
       "SOHO_KZ                  0.012152\n",
       "VERS_TYP                 1.561005\n",
       "ANZ_PERSONEN             1.401444\n",
       "ANZ_TITEL                0.002376\n",
       "HH_EINKOMMEN_SCORE       5.547871\n",
       "                           ...   \n",
       "CAMEO_DEU_2015_5B        0.014471\n",
       "CAMEO_DEU_2015_5C        0.007451\n",
       "CAMEO_DEU_2015_5D        0.004226\n",
       "CAMEO_DEU_2015_5E        0.017804\n",
       "CAMEO_DEU_2015_5F        0.002363\n",
       "CAMEO_DEU_2015_6A        0.003508\n",
       "CAMEO_DEU_2015_6B        0.011044\n",
       "CAMEO_DEU_2015_6C        0.052466\n",
       "CAMEO_DEU_2015_6D        0.016297\n",
       "CAMEO_DEU_2015_6E        0.007111\n",
       "CAMEO_DEU_2015_6F        0.020755\n",
       "CAMEO_DEU_2015_7A        0.005130\n",
       "CAMEO_DEU_2015_7B        0.059278\n",
       "CAMEO_DEU_2015_7C        0.046101\n",
       "CAMEO_DEU_2015_7D        0.015197\n",
       "CAMEO_DEU_2015_7E        0.009261\n",
       "CAMEO_DEU_2015_8A        0.002837\n",
       "CAMEO_DEU_2015_8B        0.137110\n",
       "CAMEO_DEU_2015_8C        0.078216\n",
       "CAMEO_DEU_2015_8D        0.064585\n",
       "CAMEO_DEU_2015_9A        0.021530\n",
       "CAMEO_DEU_2015_9B        0.066155\n",
       "CAMEO_DEU_2015_9C        0.105385\n",
       "CAMEO_DEU_2015_9D        0.091222\n",
       "CAMEO_DEU_2015_9E        0.077895\n",
       "DECADE                   0.001582\n",
       "MOVEMENT                 5.757316\n",
       "WEALTH                   0.091259\n",
       "LIFE_STAGE               4.405171\n",
       "GEBAEUDETYP_5.0          1.967333\n",
       "Length: 192, dtype: float64"
      ]
     },
     "execution_count": 42,
     "metadata": {},
     "output_type": "execute_result"
    }
   ],
   "source": [
    "cluster_1 = scaler.inverse_transform(pca.inverse_transform(model.cluster_centers_[1]))\n",
    "underrep = pd.Series(data = cluster_1, index = customers_imputed.columns)\n",
    "underrep"
   ]
  },
  {
   "cell_type": "markdown",
   "metadata": {},
   "source": [
    "### Discussion 3.3: Compare Customer Data to Demographics Data\n",
    "\n",
    "Based off the prediction modeling, the following groups should be targeted for the mail campaign:\n",
    "- Ages 46 - 60 (ALTERSKATEGORIE_GROB: 3.363561)\n",
    "- Sanitary Affine (HEALTH_TYP: 2.080295)\n",
    "- Gender could be male or female (ANREDE_KZ: 1.505353)\n",
    "- High to Very High Money Saver (FINANZ_SPARER: 1.569775)\n",
    "\n",
    "Based off the prediction modeling, the following groups SHOULD NOT be targeted for the mail campaign:\n",
    "- Ages 30 - 45 (ALTERSKATEGORIE_GROB: 1.897130)\n",
    "- Male (ANREDE_KZ: 0.966883)\n",
    "- Low Money Saver (FINANZ_SPARER: 4.409708)\n",
    "\n"
   ]
  },
  {
   "cell_type": "markdown",
   "metadata": {},
   "source": [
    "> Congratulations on making it this far in the project! Before you finish, make sure to check through the entire notebook from top to bottom to make sure that your analysis follows a logical flow and all of your findings are documented in **Discussion** cells. Once you've checked over all of your work, you should export the notebook as an HTML document to submit for evaluation. You can do this from the menu, navigating to **File -> Download as -> HTML (.html)**. You will submit both that document and this notebook for your project submission."
   ]
  },
  {
   "cell_type": "code",
   "execution_count": null,
   "metadata": {},
   "outputs": [],
   "source": []
  }
 ],
 "metadata": {
  "kernelspec": {
   "display_name": "Python 3",
   "language": "python",
   "name": "python3"
  },
  "language_info": {
   "codemirror_mode": {
    "name": "ipython",
    "version": 3
   },
   "file_extension": ".py",
   "mimetype": "text/x-python",
   "name": "python",
   "nbconvert_exporter": "python",
   "pygments_lexer": "ipython3",
   "version": "3.6.3"
  }
 },
 "nbformat": 4,
 "nbformat_minor": 2
}
